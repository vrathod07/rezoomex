{
 "cells": [
  {
   "cell_type": "code",
   "execution_count": null,
   "metadata": {},
   "outputs": [],
   "source": [
    "import selenium\n",
    "from selenium.common.exceptions import NoSuchElementException\n",
    "from selenium import webdriver \n",
    "from bs4 import BeautifulSoup\n",
    "from selenium.webdriver.common.by import By\n",
    "from selenium.webdriver.common.keys import Keys\n",
    "from selenium.webdriver.chrome.options import Options\n",
    "import requests\n",
    "import time\n",
    "import csv  \n",
    "import pandas as pd\n"
   ]
  },
  {
   "cell_type": "code",
   "execution_count": null,
   "metadata": {},
   "outputs": [],
   "source": [
    "\n",
    "options= Options()\n",
    "options.binary_location = \"C:/Program Files/Google/Chrome Beta/Application/chrome.exe\"\n",
    "options.add_experimental_option(\"detach\", True) # solved error \n",
    "options.add_argument('--no-sandbox')  "
   ]
  },
  {
   "cell_type": "code",
   "execution_count": null,
   "metadata": {},
   "outputs": [],
   "source": [
    "\n",
    "# for chrome version 104 put local path \n",
    "PATH = \"D:\\\\Anika\\\\VS_code\\\\PPL\\\\naturallanguageprocessing\\\\venv\\\\Include\\\\chromedriver.exe\"\n",
    "driver = webdriver.Chrome(PATH,options=options) \n",
    "driver.get(\"https://www.linkedin.com\")\n",
    "\n",
    "username = driver.find_element(by=By.CLASS_NAME,value='input__input')\n",
    "time.sleep(2)\n",
    "# dummy account email and password\n",
    "username.send_keys('bocephus.esam@fillnoo.com')\n",
    "password = driver.find_element(by=By.ID,value='session_password')\n",
    "time.sleep(5)\n",
    "password.send_keys('coep1234%') \n",
    "\n",
    "log_in_button = driver.find_element(by=By.CLASS_NAME,value='sign-in-form__submit-button') \n",
    "log_in_button.click()\n",
    "time.sleep(5)"
   ]
  },
  {
   "cell_type": "code",
   "execution_count": null,
   "metadata": {},
   "outputs": [],
   "source": [
    "\n",
    "\n",
    "#company1.csv is output file\n",
    "# open file to be written in\n",
    "header = ['Company', 'description']\n",
    "with open('company1.csv', 'w', encoding='UTF8') as f:\n",
    "    writer = csv.writer(f) # write the header\n",
    "    writer.writerow(header)\n"
   ]
  },
  {
   "cell_type": "code",
   "execution_count": null,
   "metadata": {},
   "outputs": [],
   "source": [
    "#read input company from given lst file (companycsv) and scrape in loop\n",
    "with open('companycsv.csv', 'r') as file:\n",
    "    reader = csv.reader(file)\n",
    "    num=0\n",
    "    for row in reader:\n",
    "        if(num==0):\n",
    "            num=num+1   \n",
    "            continue  # skip first titles row\n",
    "        else:\n",
    "            print(row)\n",
    "            company=row[0]  # first element of list , list is like = ['Suven Consultant Pvt ltd']\n",
    "           # to get card_link = \"https://www.linkedin.com/company/amazon\"\n",
    "            try:\n",
    "               \n",
    "                driver.get(f\"https://www.linkedin.com/company/{company}\")\n",
    "                time.sleep(10)\n",
    "\n",
    "                tag = driver.find_element(by=By.CLASS_NAME,value=\"org-top-card-summary-info-list__info-item\")\n",
    "                description= tag.text\n",
    "                data = [company,description]\n",
    "               \n",
    "                print(data)\n",
    "                print(\"-------\")\n",
    "                \n",
    "                # writing in file\n",
    "                with open('company1.csv', 'a', encoding='UTF8') as f:\n",
    "                    # write the data\n",
    "                    writer = csv.writer(f)\n",
    "                    writer.writerow(data)\n",
    "                num=num+1\n",
    "                \n",
    "            except NoSuchElementException:  #company name does not exist on linkedin\n",
    "                #print(\"invalid \")\n",
    "                num=num+1  \n",
    "            "
   ]
  }
 ],
 "metadata": {
  "kernelspec": {
   "display_name": "Python 3.9.12 ('base')",
   "language": "python",
   "name": "python3"
  },
  "language_info": {
   "name": "python",
   "version": "3.9.12"
  },
  "orig_nbformat": 4,
  "vscode": {
   "interpreter": {
    "hash": "f08154012ddadd8e950e6e9e035c7a7b32c136e7647e9b7c77e02eb723a8bedb"
   }
  }
 },
 "nbformat": 4,
 "nbformat_minor": 2
}
